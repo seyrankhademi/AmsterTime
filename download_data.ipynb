{
 "cells": [
  {
   "cell_type": "code",
   "execution_count": null,
   "metadata": {},
   "outputs": [],
   "source": [
    "import pandas as pd\n",
    "import requests\n",
    "import os\n",
    "import shutil\n",
    "from tqdm import tqdm"
   ]
  },
  {
   "cell_type": "code",
   "execution_count": null,
   "metadata": {},
   "outputs": [],
   "source": [
    "classes = ['new', 'old']\n",
    "\n",
    "\n",
    "def download_img(url, file_path):\n",
    "    r = requests.get(url)\n",
    "    with open(file_path, 'wb') as fd:\n",
    "        for chunk in r.iter_content(chunk_size=128):\n",
    "            fd.write(chunk)\n",
    "\n",
    "\n",
    "def download(root):\n",
    "    for c in classes:\n",
    "        folder_path = os.path.join(root, c)\n",
    "        try:\n",
    "            os.makedirs(folder_path)\n",
    "        except FileExistsError:\n",
    "            print(f'Folder {folder_path} has already existed.')\n",
    "        folder_path = os.path.join(root, 'img', c)\n",
    "        try:\n",
    "            os.makedirs(folder_path)\n",
    "        except FileExistsError:\n",
    "            print(f'Folder {folder_path} has already existed.')\n",
    "\n",
    "    df = pd.read_csv(os.path.join(root, 'image-pairs.csv'))\n",
    "    print(df.head())\n",
    "\n",
    "    # TODO: dowload with multithread\n",
    "    for c in classes:\n",
    "        for i, url in tqdm(enumerate(df[c]), total=len(df[c])):\n",
    "            filename = url.split('/')[-1]\n",
    "            filepath = os.path.join(root, 'img', c, filename)\n",
    "            if not os.path.exists(os.path.join(root, 'img', c, filename)):\n",
    "                download_img(url, filepath)\n",
    "            \n",
    "            # copy downloaded file to sequential filename\n",
    "            image_name, ext = filename.split('.')\n",
    "            new_filename = '{:04d}.{}'.format(i, ext)\n",
    "            new_filepath = os.path.join(root, c, new_filename)\n",
    "            shutil.copy2(filepath, new_filepath)"
   ]
  },
  {
   "cell_type": "code",
   "execution_count": null,
   "metadata": {
    "tags": []
   },
   "outputs": [],
   "source": [
    "ROOT = './data'\n",
    "download(ROOT)"
   ]
  },
  {
   "cell_type": "code",
   "execution_count": null,
   "metadata": {},
   "outputs": [],
   "source": []
  }
 ],
 "metadata": {
  "kernelspec": {
   "name": "python3",
   "display_name": "Python 3.8.5 64-bit ('miniconda3': virtualenv)",
   "metadata": {
    "interpreter": {
     "hash": "ee7a4d1febbd99ebabd6c61e9c702b32dd3e787c21280b58acb673ab82d2e0c6"
    }
   }
  },
  "language_info": {
   "codemirror_mode": {
    "name": "ipython",
    "version": 3
   },
   "file_extension": ".py",
   "mimetype": "text/x-python",
   "name": "python",
   "nbconvert_exporter": "python",
   "pygments_lexer": "ipython3",
   "version": "3.8.5-final"
  }
 },
 "nbformat": 4,
 "nbformat_minor": 2
}