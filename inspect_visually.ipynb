{
 "metadata": {
  "language_info": {
   "codemirror_mode": {
    "name": "ipython",
    "version": 3
   },
   "file_extension": ".py",
   "mimetype": "text/x-python",
   "name": "python",
   "nbconvert_exporter": "python",
   "pygments_lexer": "ipython3",
   "version": "3.8.8"
  },
  "orig_nbformat": 2,
  "kernelspec": {
   "name": "python388jvsc74a57bd0ee7a4d1febbd99ebabd6c61e9c702b32dd3e787c21280b58acb673ab82d2e0c6",
   "display_name": "Python 3.8.8 64-bit ('base': conda)"
  }
 },
 "nbformat": 4,
 "nbformat_minor": 2,
 "cells": [
  {
   "cell_type": "code",
   "execution_count": null,
   "metadata": {},
   "outputs": [],
   "source": [
    "import os\n",
    "import numpy as np\n",
    "import pandas as pd\n",
    "import pickle\n",
    "import matplotlib.pyplot as plt\n",
    "from PIL import Image\n",
    "%matplotlib inline"
   ]
  },
  {
   "cell_type": "code",
   "execution_count": null,
   "metadata": {},
   "outputs": [],
   "source": [
    "%load_ext autoreload\n",
    "%autoreload 2"
   ]
  },
  {
   "cell_type": "code",
   "execution_count": null,
   "metadata": {},
   "outputs": [],
   "source": [
    "from ctd.eval import eval_verification, calculate_metrics"
   ]
  },
  {
   "cell_type": "code",
   "execution_count": null,
   "metadata": {},
   "outputs": [],
   "source": [
    "def eval(task_path, descs_path, dist_type='l2'):\n",
    "    with open(descs_path, 'rb') as f:\n",
    "        descriptors = pickle.load(f)\n",
    "\n",
    "    samples = pd.read_csv(task_path)\n",
    "\n",
    "    return eval_verification(samples, descriptors, 1, verbose=False, dist_type=dist_type)"
   ]
  },
  {
   "cell_type": "code",
   "execution_count": null,
   "metadata": {},
   "outputs": [],
   "source": [
    "def show_pairs(results, data_path):\n",
    "    for i, (p, pair) in enumerate(results):\n",
    "        print(pair[:2])\n",
    "        path1, path2, gt = pair\n",
    "        print('Prediction:', p[0], 'GT:', gt == 1)\n",
    "        img1 = Image.open(os.path.join(data_path, path1))\n",
    "        img2 = Image.open(os.path.join(data_path, path2))\n",
    "\n",
    "        fig, axs = plt.subplots(1, 2, figsize=(10, 5))\n",
    "        axs[0].imshow(img1)\n",
    "        axs[1].imshow(img2)\n",
    "        # axs[0].text(10, -10, path1)\n",
    "        # axs[1].text(10, -10, path2)\n",
    "        # axs[0].text(10, -20, 'GT: {}, Line: {}'.format(gt, i+1))\n",
    "        axs[0].axis('off')\n",
    "        axs[1].axis('off')\n",
    "        plt.tight_layout()\n",
    "        plt.show()"
   ]
  },
  {
   "cell_type": "code",
   "execution_count": null,
   "metadata": {
    "tags": []
   },
   "outputs": [],
   "source": [
    "results, predictions, pairs = eval('tasks/verification_test.csv', 'features/triplet_resnet18_test.p', dist_type='l2')"
   ]
  },
  {
   "cell_type": "code",
   "execution_count": null,
   "metadata": {},
   "outputs": [],
   "source": [
    "true_positives = [(p, pair) for p, pair in zip(predictions, pairs) if p and pair[2]]\n",
    "true_negatives = [(p, pair) for p, pair in zip(predictions, pairs) if (not p) and (not pair[2])]\n",
    "false_positives = [(p, pair) for p, pair in zip(predictions, pairs) if p and (not pair[2])]\n",
    "false_negatives = [(p, pair) for p, pair in zip(predictions, pairs) if (not p) and pair[2]]\n",
    "\n",
    "tp = len(true_positives)\n",
    "tn = len(true_negatives)\n",
    "fp = len(false_positives)\n",
    "fn = len(false_negatives)\n",
    "t = tp + tn\n",
    "f = fp + fn\n",
    "pre = tp / (tp + fp)\n",
    "rec = tp / (tp + fn)\n",
    "f1 = 2 * pre * rec / (pre + rec)\n",
    "acc = t / (t + f)\n",
    "\n",
    "print('# true positives : {:4d}'.format(tp))\n",
    "print('# true negatives : {:4d}'.format(tn))\n",
    "print('# false positives: {:4d}'.format(fp))\n",
    "print('# false negatives: {:4d}'.format(fn))\n",
    "print('# total pairs    : {:4d}'.format(t + f))\n",
    "print()\n",
    "print('precision: {:0.4f}'.format(pre))\n",
    "print('recall   : {:0.4f}'.format(rec))\n",
    "print('f1       : {:0.4f}'.format(f1))\n",
    "print('acc      : {:0.4f}'.format(acc))"
   ]
  },
  {
   "cell_type": "code",
   "execution_count": null,
   "metadata": {},
   "outputs": [],
   "source": [
    "show_pairs(false_positives[0:10], 'data')"
   ]
  },
  {
   "cell_type": "code",
   "execution_count": null,
   "metadata": {},
   "outputs": [],
   "source": []
  }
 ]
}